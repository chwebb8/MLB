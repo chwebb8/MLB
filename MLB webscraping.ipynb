{
 "cells": [
  {
   "cell_type": "markdown",
   "metadata": {},
   "source": [
    "## MLB\n",
    "\n",
    "\n",
    "Pulling data from mlb game logs and statcast"
   ]
  },
  {
   "cell_type": "code",
   "execution_count": 1,
   "metadata": {},
   "outputs": [
    {
     "data": {
      "text/html": [
       "<style>.container { width:85% !important; }</style>"
      ],
      "text/plain": [
       "<IPython.core.display.HTML object>"
      ]
     },
     "metadata": {},
     "output_type": "display_data"
    }
   ],
   "source": [
    "from IPython.core.display import display, HTML\n",
    "\n",
    "display(HTML(\"<style>.container { width:85% !important; }</style>\"))"
   ]
  },
  {
   "cell_type": "code",
   "execution_count": null,
   "metadata": {},
   "outputs": [],
   "source": [
    "import urllib\n",
    "from datetime import timedelta, date\n",
    "import os\n",
    "import pickle\n",
    "import pandas as pd\n",
    "import json\n",
    "import csv\n",
    "import requests\n",
    "from bs4 import BeautifulSoup\n",
    "import time"
   ]
  },
  {
   "cell_type": "markdown",
   "metadata": {},
   "source": [
    "create function to loop through the different days in the schedule to find all games played.\n",
    "\n",
    "\n",
    "sportid = 1 is MLB"
   ]
  },
  {
   "cell_type": "code",
   "execution_count": null,
   "metadata": {},
   "outputs": [],
   "source": [
    "def get_url(year, month, day):\n",
    "        \n",
    "    return 'http://statsapi.mlb.com/api/v1/schedule?sportId=1&date=' + month + '/' + day + '/' + year\n",
    "\n",
    "def daterange(start_date, end_date):\n",
    "    for n in range(int ((end_date - start_date).days)):\n",
    "        yield start_date + timedelta(n)"
   ]
  },
  {
   "cell_type": "markdown",
   "metadata": {},
   "source": [
    "Save locally and hard-coded the begin and end dates for each season year"
   ]
  },
  {
   "cell_type": "code",
   "execution_count": null,
   "metadata": {},
   "outputs": [],
   "source": [
    "#Scrape all data from given date range according to wind conditions\n",
    "year = 2015\n",
    "\n",
    "if year == 2015:\n",
    "    start_date = date(2015, 4, 5)\n",
    "    end_date = date(2015, 10, 6)\n",
    "elif year == 2016:\n",
    "    start_date = date(2016, 4, 3)\n",
    "    end_date = date(2016, 10, 3)\n",
    "elif year == 2017:\n",
    "    start_date = date(2017, 4, 2)\n",
    "    end_date = date(2017, 10, 3)\n",
    "elif year == 2018:\n",
    "    start_date = date(2018, 3, 29)\n",
    "    end_date = date(2018, 10, 2)\n",
    "elif year == 2019:\n",
    "    start_date = date(2019, 3, 20)\n",
    "    end_date = date(2019, 10, 1)\n",
    "elif year == 2014:\n",
    "    start_date = date(2014, 3, 22)\n",
    "    end_date = date(2014, 9, 29)\n",
    "else:\n",
    "    start_date = date(year, 3, 31)\n",
    "    end_date = date(year, 4, 1)\n",
    "    \n",
    "if not os.path.isdir('MLB/' + str(year) + '_json'):\n",
    "    os.mkdir('MLB/' + str(year) + '_json')\n",
    "\n",
    "    \n",
    "for single_date in daterange(start_date, end_date):\n",
    "    \n",
    "    d = single_date.strftime(\"%Y-%m-%d\").split('-')\n",
    "    day_url = get_url(d[0], d[1], d[2])\n",
    "\n",
    "\n",
    "    print(day_url)\n",
    "    with urllib.request.urlopen(day_url) as f:\n",
    "        webpage = f.read().decode('utf-8')\n",
    "   \n",
    "    xml_name = 'MLB/' + str(year) + '_json/' + d[0] + d[1] + d[2] + '.json'\n",
    "    savefile = open(xml_name, 'w')\n",
    "    savefile.write(webpage)\n",
    "    savefile.close()"
   ]
  },
  {
   "cell_type": "markdown",
   "metadata": {},
   "source": [
    "Now loop through the list of games in csv file to pull down the corresponding json files."
   ]
  },
  {
   "cell_type": "code",
   "execution_count": null,
   "metadata": {},
   "outputs": [],
   "source": [
    "with open('MLB/MLBGameLog.csv', newline='') as f:\n",
    "    reader = csv.reader(f)\n",
    "    data = list(reader)\n",
    "    \n",
    "def game_url(Game):\n",
    "    return 'http://statsapi.mlb.com/api/v1.1/game/' + str(Game) + '/feed/live'\n",
    "\n",
    "if not os.path.isdir('MLB/json'):\n",
    "    os.mkdir('MLB/json')\n",
    "    \n",
    "i = 1\n",
    "\n",
    "for i in range(len(data)):\n",
    "    selectedtext = data[i]\n",
    "    \n",
    "    #print(selectedtext)\n",
    "    thisgame = game_url(selectedtext[0])\n",
    "    #print(thisgame)\n",
    "\n",
    "    with urllib.request.urlopen(thisgame) as f:\n",
    "        webpage = f.read().decode('utf-8')\n",
    "    \n",
    "    xml_name = 'MLB/json/' + selectedtext[0] + '.json'\n",
    "    \n",
    "    if not os.path.exists(xml_name):\n",
    "        savefile = open(xml_name, 'w')\n",
    "        savefile.write(webpage)\n",
    "        savefile.close()\n",
    "        print(selectedtext[0] + ' downloaded')\n",
    "        \n",
    "    #if os.path.exists(xml_name):\n",
    "        #print(selectedtext[0] + ' already exists')\n",
    "    \n",
    "    time.sleep(1)\n"
   ]
  },
  {
   "cell_type": "markdown",
   "metadata": {},
   "source": [
    "A distinct list of player_ids was created from aforementioned game logs from 2015 to 2019.  Similar process to pull down desired player info."
   ]
  },
  {
   "cell_type": "code",
   "execution_count": null,
   "metadata": {},
   "outputs": [],
   "source": [
    "with open('MLB/Player_Ids.csv', encoding='utf-8-sig', newline='') as f:\n",
    "    reader = csv.reader(f)\n",
    "    data = list(reader)\n",
    "    \n",
    "def player_url(Player):\n",
    "    return 'http://statsapi.mlb.com/api/v1/people/' + Player\n",
    "\n",
    "if not os.path.isdir('MLB/Players'):\n",
    "    os.mkdir('MLB/Players')\n",
    "    \n",
    "i = 1\n",
    "\n",
    "for i in range(len(data)):\n",
    "    selectedtext = data[i]\n",
    "    \n",
    "    print(selectedtext[0])\n",
    "    thisplayer = player_url(selectedtext[0])\n",
    "    #print(thisgame)\n",
    "\n",
    "    with urllib.request.urlopen(thisplayer) as f:\n",
    "        webpage = f.read().decode('utf-8')\n",
    "    \n",
    "    xml_name = 'MLB/Players/' + selectedtext[0] + '.json'\n",
    "    \n",
    "    if not os.path.exists(xml_name):\n",
    "        savefile = open(xml_name, 'w')\n",
    "        savefile.write(webpage)\n",
    "        savefile.close()\n",
    "        print(selectedtext[0] + ' downloaded')\n",
    "        \n",
    "    #if os.path.exists(xml_name):\n",
    "        #print(selectedtext[0] + ' already exists')\n",
    "    \n",
    "    time.sleep(1)"
   ]
  },
  {
   "cell_type": "markdown",
   "metadata": {},
   "source": [
    "statcast is below.  This simplified quite a few steps.  By using their python package, you can easily download game logs data although it has already been cleaned and does not include as many features of the raw files from MLB.   \n",
    "\n",
    "\n",
    "This may help fill in some gaps that may have been missing for whatever reason from the initial source."
   ]
  },
  {
   "cell_type": "code",
   "execution_count": null,
   "metadata": {},
   "outputs": [],
   "source": [
    "from pybaseball import statcast\n",
    "import csv\n",
    "import os\n",
    "\n",
    "year = 2019\n",
    "\n",
    "if year == 2015:\n",
    "    start_date = '2015-4-5'\n",
    "    end_date = '2015-10-6'\n",
    "elif year == 2016:\n",
    "    start_date = '2016-4-3'\n",
    "    end_date = '2016-10-3'\n",
    "elif year == 2017:\n",
    "    start_date = '2017-4-2'\n",
    "    end_date = '2017-10-3'\n",
    "elif year == 2018:\n",
    "    start_date = '2018-3-29'\n",
    "    end_date = '2018-10-2'\n",
    "elif year == 2019:\n",
    "    start_date = '2019-3-20'\n",
    "    end_date = '2019-10-1'\n",
    "elif year == 2014:\n",
    "    start_date = '2014-3-22'\n",
    "    end_date = '2014-9-29'\n",
    "\n",
    "data_2019 = statcast(start_date, end_date)\n",
    "data_2019.to_csv('MLB\\statcast\\statcast_2019.txt', sep='|', index=False, header=True)"
   ]
  }
 ],
 "metadata": {
  "kernelspec": {
   "display_name": "Python 3",
   "language": "python",
   "name": "python3"
  },
  "language_info": {
   "codemirror_mode": {
    "name": "ipython",
    "version": 3
   },
   "file_extension": ".py",
   "mimetype": "text/x-python",
   "name": "python",
   "nbconvert_exporter": "python",
   "pygments_lexer": "ipython3",
   "version": "3.8.6"
  }
 },
 "nbformat": 4,
 "nbformat_minor": 4
}
